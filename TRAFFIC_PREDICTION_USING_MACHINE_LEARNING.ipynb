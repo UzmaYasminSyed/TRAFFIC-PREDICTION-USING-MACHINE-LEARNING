{
  "nbformat": 4,
  "nbformat_minor": 0,
  "metadata": {
    "colab": {
      "provenance": []
    },
    "kernelspec": {
      "name": "python3",
      "display_name": "Python 3"
    },
    "language_info": {
      "name": "python"
    }
  },
  "cells": [
    {
      "cell_type": "code",
      "execution_count": null,
      "metadata": {
        "colab": {
          "base_uri": "https://localhost:8080/"
        },
        "id": "Wsiqev8NxNtM",
        "outputId": "528b6e5d-fe59-4cf1-e6e8-0ef98f0f4be7"
      },
      "outputs": [
        {
          "output_type": "stream",
          "name": "stdout",
          "text": [
            "       Cross 1   Cross 2   Cross 3   Cross 4   Cross 5   Cross 6  Junction  \\\n",
            "0        105.0      48.0        30      62.0        31     110.0         1   \n",
            "1         97.0      41.0        32      55.0        42     103.0         1   \n",
            "2         76.0      47.0        44      58.0        40     100.0         1   \n",
            "3         98.0      40.0        39      59.0        43     104.0         1   \n",
            "4         87.0      41.0        47      49.0        35     112.0         1   \n",
            "...        ...       ...       ...       ...       ...       ...       ...   \n",
            "16123     85.0      37.0        34      56.0        35      89.0         2   \n",
            "16124     71.0      45.0        44      50.0        44      53.0         2   \n",
            "16125     83.0      34.0        34      61.0        44      77.0         2   \n",
            "16126     89.0      39.0        25      48.0        32      64.0         2   \n",
            "16127     66.0      36.0        26      50.0        37      55.0         2   \n",
            "\n",
            "       Vehicles  \n",
            "0            15  \n",
            "1            13  \n",
            "2            10  \n",
            "3             7  \n",
            "4             9  \n",
            "...         ...  \n",
            "16123         6  \n",
            "16124         8  \n",
            "16125         9  \n",
            "16126         8  \n",
            "16127        10  \n",
            "\n",
            "[16128 rows x 8 columns]\n"
          ]
        }
      ],
      "source": [
        "import pandas as pd\n",
        "d=pd.read_csv('/content/traffic-prediction-dataset (1).csv')\n",
        "print(d)"
      ]
    },
    {
      "cell_type": "code",
      "source": [
        "y=d['Junction'] #drop karre\n",
        "x=d.drop('Junction',axis=1)\n",
        "print(y)\n",
        "print(x)\n"
      ],
      "metadata": {
        "colab": {
          "base_uri": "https://localhost:8080/"
        },
        "id": "DCIfQPKjxca2",
        "outputId": "4c50c413-1b71-4082-ead9-9b363294256f"
      },
      "execution_count": null,
      "outputs": [
        {
          "output_type": "stream",
          "name": "stdout",
          "text": [
            "0        1\n",
            "1        1\n",
            "2        1\n",
            "3        1\n",
            "4        1\n",
            "        ..\n",
            "16123    2\n",
            "16124    2\n",
            "16125    2\n",
            "16126    2\n",
            "16127    2\n",
            "Name: Junction, Length: 16128, dtype: int64\n",
            "       Cross 1   Cross 2   Cross 3   Cross 4   Cross 5   Cross 6  Vehicles\n",
            "0        105.0      48.0        30      62.0        31     110.0        15\n",
            "1         97.0      41.0        32      55.0        42     103.0        13\n",
            "2         76.0      47.0        44      58.0        40     100.0        10\n",
            "3         98.0      40.0        39      59.0        43     104.0         7\n",
            "4         87.0      41.0        47      49.0        35     112.0         9\n",
            "...        ...       ...       ...       ...       ...       ...       ...\n",
            "16123     85.0      37.0        34      56.0        35      89.0         6\n",
            "16124     71.0      45.0        44      50.0        44      53.0         8\n",
            "16125     83.0      34.0        34      61.0        44      77.0         9\n",
            "16126     89.0      39.0        25      48.0        32      64.0         8\n",
            "16127     66.0      36.0        26      50.0        37      55.0        10\n",
            "\n",
            "[16128 rows x 7 columns]\n"
          ]
        }
      ]
    },
    {
      "cell_type": "code",
      "source": [
        "s=x.fillna(0)\n",
        "print(s)"
      ],
      "metadata": {
        "colab": {
          "base_uri": "https://localhost:8080/"
        },
        "id": "ox_EeIthBDuP",
        "outputId": "9e768aeb-1f47-45fc-b321-2459d3ac6039"
      },
      "execution_count": null,
      "outputs": [
        {
          "output_type": "stream",
          "name": "stdout",
          "text": [
            "       Cross 1   Cross 2   Cross 3   Cross 4   Cross 5   Cross 6  Vehicles\n",
            "0        105.0      48.0        30      62.0        31     110.0        15\n",
            "1         97.0      41.0        32      55.0        42     103.0        13\n",
            "2         76.0      47.0        44      58.0        40     100.0        10\n",
            "3         98.0      40.0        39      59.0        43     104.0         7\n",
            "4         87.0      41.0        47      49.0        35     112.0         9\n",
            "...        ...       ...       ...       ...       ...       ...       ...\n",
            "16123     85.0      37.0        34      56.0        35      89.0         6\n",
            "16124     71.0      45.0        44      50.0        44      53.0         8\n",
            "16125     83.0      34.0        34      61.0        44      77.0         9\n",
            "16126     89.0      39.0        25      48.0        32      64.0         8\n",
            "16127     66.0      36.0        26      50.0        37      55.0        10\n",
            "\n",
            "[16128 rows x 7 columns]\n"
          ]
        }
      ]
    },
    {
      "cell_type": "code",
      "source": [
        "print(s.columns)\n",
        "print(s.head)"
      ],
      "metadata": {
        "id": "INVnXywjBS9q",
        "colab": {
          "base_uri": "https://localhost:8080/"
        },
        "outputId": "d9cca4a7-0303-42cf-dd1c-5f0e4edbfe48"
      },
      "execution_count": null,
      "outputs": [
        {
          "output_type": "stream",
          "name": "stdout",
          "text": [
            "Index(['Cross 1', ' Cross 2', ' Cross 3', ' Cross 4', ' Cross 5', ' Cross 6',\n",
            "       'Vehicles'],\n",
            "      dtype='object')\n",
            "<bound method NDFrame.head of        Cross 1   Cross 2   Cross 3   Cross 4   Cross 5   Cross 6  Vehicles\n",
            "0        105.0      48.0        30      62.0        31     110.0        15\n",
            "1         97.0      41.0        32      55.0        42     103.0        13\n",
            "2         76.0      47.0        44      58.0        40     100.0        10\n",
            "3         98.0      40.0        39      59.0        43     104.0         7\n",
            "4         87.0      41.0        47      49.0        35     112.0         9\n",
            "...        ...       ...       ...       ...       ...       ...       ...\n",
            "16123     85.0      37.0        34      56.0        35      89.0         6\n",
            "16124     71.0      45.0        44      50.0        44      53.0         8\n",
            "16125     83.0      34.0        34      61.0        44      77.0         9\n",
            "16126     89.0      39.0        25      48.0        32      64.0         8\n",
            "16127     66.0      36.0        26      50.0        37      55.0        10\n",
            "\n",
            "[16128 rows x 7 columns]>\n"
          ]
        }
      ]
    },
    {
      "cell_type": "code",
      "source": [
        "a=s['Vehicles']\n",
        "b = s[['Cross 1', ' Cross 2', ' Cross 3', ' Cross 4', ' Cross 5', ' Cross 6']]\n",
        "print(a)\n",
        "print(b)"
      ],
      "metadata": {
        "colab": {
          "base_uri": "https://localhost:8080/"
        },
        "id": "1NC3vc0QO6uf",
        "outputId": "fda7723b-a309-4fbe-95db-f43ee85e1ffb"
      },
      "execution_count": null,
      "outputs": [
        {
          "output_type": "stream",
          "name": "stdout",
          "text": [
            "0        15\n",
            "1        13\n",
            "2        10\n",
            "3         7\n",
            "4         9\n",
            "         ..\n",
            "16123     6\n",
            "16124     8\n",
            "16125     9\n",
            "16126     8\n",
            "16127    10\n",
            "Name: Vehicles, Length: 16128, dtype: int64\n",
            "       Cross 1   Cross 2   Cross 3   Cross 4   Cross 5   Cross 6\n",
            "0        105.0      48.0        30      62.0        31     110.0\n",
            "1         97.0      41.0        32      55.0        42     103.0\n",
            "2         76.0      47.0        44      58.0        40     100.0\n",
            "3         98.0      40.0        39      59.0        43     104.0\n",
            "4         87.0      41.0        47      49.0        35     112.0\n",
            "...        ...       ...       ...       ...       ...       ...\n",
            "16123     85.0      37.0        34      56.0        35      89.0\n",
            "16124     71.0      45.0        44      50.0        44      53.0\n",
            "16125     83.0      34.0        34      61.0        44      77.0\n",
            "16126     89.0      39.0        25      48.0        32      64.0\n",
            "16127     66.0      36.0        26      50.0        37      55.0\n",
            "\n",
            "[16128 rows x 6 columns]\n"
          ]
        }
      ]
    },
    {
      "cell_type": "code",
      "source": [
        "from sklearn.model_selection import train_test_split\n",
        "\n",
        "b_train, b_test, a_train, a_test = train_test_split(b, a, test_size=0.2, random_state=42)\n",
        "\n",
        "print(\"Shape of b_train:\", b_train.shape)\n",
        "print(\"Shape of a_train:\", a_train.shape)\n",
        "\n",
        "print(\"Shape of b_test:\", b_test.shape)\n",
        "print(\"Shape of a_test:\", a_test.shape)\n"
      ],
      "metadata": {
        "colab": {
          "base_uri": "https://localhost:8080/"
        },
        "id": "4A0ixACdRwwm",
        "outputId": "39c939dd-418a-47bf-a917-ad70af8de27c"
      },
      "execution_count": null,
      "outputs": [
        {
          "output_type": "stream",
          "name": "stdout",
          "text": [
            "Shape of b_train: (12902, 6)\n",
            "Shape of a_train: (12902,)\n",
            "Shape of b_test: (3226, 6)\n",
            "Shape of a_test: (3226,)\n"
          ]
        }
      ]
    },
    {
      "cell_type": "code",
      "source": [
        "from sklearn.linear_model import LinearRegression\n",
        "from sklearn.preprocessing import MinMaxScaler\n",
        "from sklearn.metrics import mean_squared_error\n",
        "\n",
        "scaler = MinMaxScaler()\n",
        "b_train_normalized = scaler.fit_transform(b_train)\n",
        "b_test_normalized = scaler.transform(b_test)\n",
        "\n",
        "\n",
        "model = LinearRegression()\n",
        "model.fit(b_train_normalized, a_train)\n",
        "a_pred = model.predict(b_test_normalized)\n",
        "print(a_pred)\n",
        "\n"
      ],
      "metadata": {
        "colab": {
          "base_uri": "https://localhost:8080/"
        },
        "id": "1jbm-j2_TZm1",
        "outputId": "5f1c78a2-2950-4800-8185-a6daf0e4e1fb"
      },
      "execution_count": null,
      "outputs": [
        {
          "output_type": "stream",
          "name": "stdout",
          "text": [
            "[23.90831746 23.16595132 43.25330892 ... 42.50066595 38.64483974\n",
            " 46.27578855]\n"
          ]
        }
      ]
    },
    {
      "cell_type": "code",
      "source": [
        "from sklearn.metrics import mean_absolute_error\n",
        "mae = mean_absolute_error(a_test, a_pred)\n",
        "print(f'Mean Absolute Error: {mae}')\n",
        "\n",
        "mse = mean_squared_error(a_test, a_pred)\n",
        "print(f'Mean Squared Error: {mse}')\n"
      ],
      "metadata": {
        "colab": {
          "base_uri": "https://localhost:8080/"
        },
        "id": "XErrBBO5UIeY",
        "outputId": "884dca53-7051-40d5-e938-09be00a596cc"
      },
      "execution_count": null,
      "outputs": [
        {
          "output_type": "stream",
          "name": "stdout",
          "text": [
            "Mean Absolute Error: 18.711608372856464\n",
            "Mean Squared Error: 563.891907725946\n"
          ]
        }
      ]
    },
    {
      "cell_type": "code",
      "source": [
        "import pandas as pd\n",
        "d=pd.read_csv('/content/traffic-prediction-dataset (1).csv')\n",
        "print(d)"
      ],
      "metadata": {
        "colab": {
          "base_uri": "https://localhost:8080/"
        },
        "id": "-TmOA94NUr38",
        "outputId": "28b02129-1f9e-4b7d-d4d9-972c9cd1b0e9"
      },
      "execution_count": null,
      "outputs": [
        {
          "output_type": "stream",
          "name": "stdout",
          "text": [
            "       Cross 1   Cross 2   Cross 3   Cross 4   Cross 5   Cross 6  Junction  \\\n",
            "0        105.0      48.0        30      62.0        31     110.0         1   \n",
            "1         97.0      41.0        32      55.0        42     103.0         1   \n",
            "2         76.0      47.0        44      58.0        40     100.0         1   \n",
            "3         98.0      40.0        39      59.0        43     104.0         1   \n",
            "4         87.0      41.0        47      49.0        35     112.0         1   \n",
            "...        ...       ...       ...       ...       ...       ...       ...   \n",
            "16123     85.0      37.0        34      56.0        35      89.0         2   \n",
            "16124     71.0      45.0        44      50.0        44      53.0         2   \n",
            "16125     83.0      34.0        34      61.0        44      77.0         2   \n",
            "16126     89.0      39.0        25      48.0        32      64.0         2   \n",
            "16127     66.0      36.0        26      50.0        37      55.0         2   \n",
            "\n",
            "       Vehicles  \n",
            "0            15  \n",
            "1            13  \n",
            "2            10  \n",
            "3             7  \n",
            "4             9  \n",
            "...         ...  \n",
            "16123         6  \n",
            "16124         8  \n",
            "16125         9  \n",
            "16126         8  \n",
            "16127        10  \n",
            "\n",
            "[16128 rows x 8 columns]\n"
          ]
        }
      ]
    },
    {
      "cell_type": "code",
      "source": [
        "x=d.drop('Junction',axis=1)\n",
        "s=x.fillna(0)\n",
        "print(s)"
      ],
      "metadata": {
        "colab": {
          "base_uri": "https://localhost:8080/"
        },
        "id": "iJmRy9hBUToy",
        "outputId": "11b7a84e-3089-4650-c81f-acf67703ff6f"
      },
      "execution_count": null,
      "outputs": [
        {
          "output_type": "stream",
          "name": "stdout",
          "text": [
            "       Cross 1   Cross 2   Cross 3   Cross 4   Cross 5   Cross 6  Vehicles\n",
            "0        105.0      48.0        30      62.0        31     110.0        15\n",
            "1         97.0      41.0        32      55.0        42     103.0        13\n",
            "2         76.0      47.0        44      58.0        40     100.0        10\n",
            "3         98.0      40.0        39      59.0        43     104.0         7\n",
            "4         87.0      41.0        47      49.0        35     112.0         9\n",
            "...        ...       ...       ...       ...       ...       ...       ...\n",
            "16123     85.0      37.0        34      56.0        35      89.0         6\n",
            "16124     71.0      45.0        44      50.0        44      53.0         8\n",
            "16125     83.0      34.0        34      61.0        44      77.0         9\n",
            "16126     89.0      39.0        25      48.0        32      64.0         8\n",
            "16127     66.0      36.0        26      50.0        37      55.0        10\n",
            "\n",
            "[16128 rows x 7 columns]\n"
          ]
        }
      ]
    },
    {
      "cell_type": "code",
      "source": [
        "a=s['Vehicles']\n",
        "b = s[['Cross 1', ' Cross 2', ' Cross 3', ' Cross 4', ' Cross 5', ' Cross 6']]\n",
        "print(a)\n",
        "print(b)"
      ],
      "metadata": {
        "colab": {
          "base_uri": "https://localhost:8080/"
        },
        "id": "U5T33LC2UQEq",
        "outputId": "427f2a82-275c-4c5e-a5fd-a777562a0b25"
      },
      "execution_count": null,
      "outputs": [
        {
          "output_type": "stream",
          "name": "stdout",
          "text": [
            "0        15\n",
            "1        13\n",
            "2        10\n",
            "3         7\n",
            "4         9\n",
            "         ..\n",
            "16123     6\n",
            "16124     8\n",
            "16125     9\n",
            "16126     8\n",
            "16127    10\n",
            "Name: Vehicles, Length: 16128, dtype: int64\n",
            "       Cross 1   Cross 2   Cross 3   Cross 4   Cross 5   Cross 6\n",
            "0        105.0      48.0        30      62.0        31     110.0\n",
            "1         97.0      41.0        32      55.0        42     103.0\n",
            "2         76.0      47.0        44      58.0        40     100.0\n",
            "3         98.0      40.0        39      59.0        43     104.0\n",
            "4         87.0      41.0        47      49.0        35     112.0\n",
            "...        ...       ...       ...       ...       ...       ...\n",
            "16123     85.0      37.0        34      56.0        35      89.0\n",
            "16124     71.0      45.0        44      50.0        44      53.0\n",
            "16125     83.0      34.0        34      61.0        44      77.0\n",
            "16126     89.0      39.0        25      48.0        32      64.0\n",
            "16127     66.0      36.0        26      50.0        37      55.0\n",
            "\n",
            "[16128 rows x 6 columns]\n"
          ]
        }
      ]
    },
    {
      "cell_type": "code",
      "source": [
        "from sklearn.model_selection import train_test_split\n",
        "from sklearn.preprocessing import MinMaxScaler\n",
        "\n",
        "b_train, b_test, a_train, a_test = train_test_split(b, a, test_size=0.20, random_state=42)\n",
        "\n",
        "scaler = MinMaxScaler()\n",
        "b_train_normalized = scaler.fit_transform(b_train)\n",
        "b_test_normalized = scaler.transform(b_test)\n"
      ],
      "metadata": {
        "id": "s61g1NxBTV9m"
      },
      "execution_count": null,
      "outputs": []
    },
    {
      "cell_type": "code",
      "source": [
        "from sklearn.svm import SVR\n",
        "from sklearn.metrics import mean_squared_error, mean_absolute_error\n",
        "\n",
        "svr_model = SVR()\n",
        "svr_model.fit(b_train_normalized, a_train)\n",
        "\n",
        "a_pred_svr = svr_model.predict(b_test_normalized)\n",
        "\n",
        "svr_mae = mean_absolute_error(a_test, a_pred_svr)\n",
        "svr_mse = mean_squared_error(a_test, a_pred_svr)\n",
        "\n",
        "print(\"SVR Mean Absolute Error:\", svr_mae)\n",
        "print(\"SVR Mean Squared Error:\", svr_mse)\n"
      ],
      "metadata": {
        "colab": {
          "base_uri": "https://localhost:8080/"
        },
        "id": "l-rerjCJSX7t",
        "outputId": "35a1ad77-4fcf-48b6-8408-17e2a4b1e912"
      },
      "execution_count": null,
      "outputs": [
        {
          "output_type": "stream",
          "name": "stdout",
          "text": [
            "SVR Mean Absolute Error: 17.881495400282947\n",
            "SVR Mean Squared Error: 541.8981947179572\n"
          ]
        }
      ]
    },
    {
      "cell_type": "code",
      "source": [
        "#print(\"Linear Regression MSE:\",mse)\n",
        "#print(\"Linear Regression MAE:\",mae)\n",
        "print(\"SVR MSE:\", svr_mse)\n",
        "print(\"SVR MAE:\", svr_mae)"
      ],
      "metadata": {
        "colab": {
          "base_uri": "https://localhost:8080/"
        },
        "id": "hVRFd4sNVgB8",
        "outputId": "bf9b0fb6-6ab2-4926-cb47-929509262497"
      },
      "execution_count": null,
      "outputs": [
        {
          "output_type": "stream",
          "name": "stdout",
          "text": [
            "SVR MSE: 541.8981947179572\n",
            "SVR MAE: 17.881495400282947\n"
          ]
        }
      ]
    },
    {
      "cell_type": "code",
      "source": [
        "import pandas as pd\n",
        "from sklearn.model_selection import train_test_split, GridSearchCV\n",
        "from sklearn.neighbors import KNeighborsRegressor\n",
        "from sklearn.metrics import mean_squared_error, mean_absolute_error\n",
        "\n",
        "d = pd.read_csv('/content/traffic-prediction-dataset (1).csv')\n",
        "\n",
        "y = d['Junction']\n",
        "x = d.drop('Junction', axis=1)\n",
        "s = x.fillna(0)\n",
        "a = s['Vehicles']\n",
        "b = s[['Cross 1', ' Cross 2', ' Cross 3', ' Cross 4', ' Cross 5', ' Cross 6']]\n",
        "\n",
        "print(b)\n",
        "print(a)\n"
      ],
      "metadata": {
        "colab": {
          "base_uri": "https://localhost:8080/"
        },
        "id": "u1sNQ33rOG0g",
        "outputId": "939cd820-6e76-4a9d-9028-c785ee36e733"
      },
      "execution_count": null,
      "outputs": [
        {
          "output_type": "stream",
          "name": "stdout",
          "text": [
            "       Cross 1   Cross 2   Cross 3   Cross 4   Cross 5   Cross 6\n",
            "0        105.0      48.0        30      62.0        31     110.0\n",
            "1         97.0      41.0        32      55.0        42     103.0\n",
            "2         76.0      47.0        44      58.0        40     100.0\n",
            "3         98.0      40.0        39      59.0        43     104.0\n",
            "4         87.0      41.0        47      49.0        35     112.0\n",
            "...        ...       ...       ...       ...       ...       ...\n",
            "16123     85.0      37.0        34      56.0        35      89.0\n",
            "16124     71.0      45.0        44      50.0        44      53.0\n",
            "16125     83.0      34.0        34      61.0        44      77.0\n",
            "16126     89.0      39.0        25      48.0        32      64.0\n",
            "16127     66.0      36.0        26      50.0        37      55.0\n",
            "\n",
            "[16128 rows x 6 columns]\n",
            "0        15\n",
            "1        13\n",
            "2        10\n",
            "3         7\n",
            "4         9\n",
            "         ..\n",
            "16123     6\n",
            "16124     8\n",
            "16125     9\n",
            "16126     8\n",
            "16127    10\n",
            "Name: Vehicles, Length: 16128, dtype: int64\n"
          ]
        }
      ]
    },
    {
      "cell_type": "code",
      "source": [
        "b_train, b_test, a_train, a_test = train_test_split(b, a, test_size=0.2, random_state=42)\n",
        "\n"
      ],
      "metadata": {
        "id": "lF2F5ZNFSCMb"
      },
      "execution_count": null,
      "outputs": []
    },
    {
      "cell_type": "code",
      "source": [
        "param_grid = {'n_neighbors': list(range(1, 21))}\n",
        "\n",
        "knn = KNeighborsRegressor()\n",
        "\n",
        "grid_search = GridSearchCV(estimator=knn, param_grid=param_grid, scoring='neg_mean_squared_error', cv=5)\n",
        "grid_search.fit(b_train, a_train)\n",
        "\n",
        "best_n_neighbors = grid_search.best_params_['n_neighbors']\n",
        "\n",
        "best_knn = KNeighborsRegressor(n_neighbors=best_n_neighbors)\n",
        "best_knn.fit(b_train, a_train)\n",
        "best_knn_predictions = best_knn.predict(b_test)\n",
        "\n",
        "best_knn_mse = mean_squared_error(a_test, best_knn_predictions)\n",
        "best_knn_mae = mean_absolute_error(a_test, best_knn_predictions)\n",
        "\n",
        "print(\"Best KNN MSE:\", best_knn_mse)\n",
        "print(\"Best KNN MAE:\", best_knn_mae)"
      ],
      "metadata": {
        "colab": {
          "base_uri": "https://localhost:8080/"
        },
        "id": "DeXRsYC3SGvY",
        "outputId": "d61591a4-76df-4ae3-e81a-0c1053b1d4f4"
      },
      "execution_count": null,
      "outputs": [
        {
          "output_type": "stream",
          "name": "stdout",
          "text": [
            "Best KNN MSE: 521.6841064786113\n",
            "Best KNN MAE: 17.64074705517669\n"
          ]
        }
      ]
    },
    {
      "cell_type": "code",
      "source": [
        "from sklearn.linear_model import Lasso\n",
        "from sklearn.metrics import mean_squared_error, mean_absolute_error\n",
        "lasso = Lasso()\n",
        "lasso.fit(b_train, a_train)\n",
        "lasso_predictions = lasso.predict(b_test)\n",
        "\n",
        "lasso_mse = mean_squared_error(a_test, lasso_predictions)\n",
        "lasso_mae = mean_absolute_error(a_test, lasso_predictions)\n",
        "\n",
        "print(\"Lasso MSE:\", lasso_mse)\n",
        "print(\"Lasso MAE:\", lasso_mae)"
      ],
      "metadata": {
        "colab": {
          "base_uri": "https://localhost:8080/"
        },
        "id": "0_vXYU9FSOHC",
        "outputId": "7041a599-385d-4e2a-93cf-9952e2a4afef"
      },
      "execution_count": null,
      "outputs": [
        {
          "output_type": "stream",
          "name": "stdout",
          "text": [
            "Lasso MSE: 563.9192383290206\n",
            "Lasso MAE: 18.71127199700547\n"
          ]
        }
      ]
    },
    {
      "cell_type": "code",
      "source": [
        "from sklearn.linear_model import Ridge\n",
        "from sklearn.metrics import mean_squared_error, mean_absolute_error\n",
        "ridge = Ridge()\n",
        "ridge.fit(b_train, a_train)\n",
        "ridge_predictions = ridge.predict(b_test)\n",
        "\n",
        "ridge_mse = mean_squared_error(a_test, ridge_predictions)\n",
        "ridge_mae = mean_absolute_error(a_test, ridge_predictions)\n",
        "\n",
        "print(\"Ridge MSE:\", ridge_mse)\n",
        "print(\"Ridge MAE:\", ridge_mae)"
      ],
      "metadata": {
        "colab": {
          "base_uri": "https://localhost:8080/"
        },
        "id": "fzxlvWemTI29",
        "outputId": "8ca2dc29-8e90-4842-e683-be9b4ccb95a8"
      },
      "execution_count": null,
      "outputs": [
        {
          "output_type": "stream",
          "name": "stdout",
          "text": [
            "Ridge MSE: 563.8919077936758\n",
            "Ridge MAE: 18.71160837706224\n"
          ]
        }
      ]
    }
  ]
}